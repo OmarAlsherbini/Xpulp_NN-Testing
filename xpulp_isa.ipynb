{
 "cells": [
  {
   "cell_type": "code",
   "execution_count": 12,
   "metadata": {
    "Collapsed": "false"
   },
   "outputs": [
    {
     "name": "stdout",
     "output_type": "stream",
     "text": [
      "   funct 5  F  Unnamed: 2   rs2   rs1  funct 3    rD    opcode  \\\n",
      "0   0 0000  0           0  src2  src1       10  dest  101 0111   \n",
      "1   0 0000  0           0  src2  src1       11  dest  101 0111   \n",
      "2   0 0000  0           1  src2  src1       10  dest  101 0111   \n",
      "3   0 0000  0           1  src2  src1       11  dest  101 0111   \n",
      "4   0 0001  0           0  src2  src1       10  dest  101 0111   \n",
      "..     ... ..         ...   ...   ...      ...   ...       ...   \n",
      "77  1 0101  0           1  src2  src1       11  dest  101 0111   \n",
      "78  1 0111  0           0  src2  src1       10  dest  101 0111   \n",
      "79  1 0111  0           0  src2  src1       11  dest  101 0111   \n",
      "80  1 0111  0           1  src2  src1       10  dest  101 0111   \n",
      "81  1 0111  0           1  src2  src1       11  dest  101 0111   \n",
      "\n",
      "                        mnemonic           OP  BIT WIDTH  BASE MASK  \\\n",
      "0          pv.add.n rD, rs1, rs2      ADD V-V          4  MASK_V_OP   \n",
      "1       pv.add.sc.n rD, rs1, rs2      ADD V-S          4  MASK_V_OP   \n",
      "2          pv.add.c rD, rs1, rs2      ADD V-V          2  MASK_V_OP   \n",
      "3       pv.add.sc.c rD, rs1, rs2      ADD V-S          2  MASK_V_OP   \n",
      "4          pv.sub.n rD, rs1, rs2      SUB V-V          4  MASK_V_OP   \n",
      "..                           ...          ...        ...        ...   \n",
      "77  pv.sdotusp.sc.c rD, rs1, rs2  SDOTUSP V-R          2  MASK_V_OP   \n",
      "78      pv.sdotsp.n rD, rs1, rs2   SDOTSP V-V          4  MASK_V_OP   \n",
      "79   pv.sdotsp.sc.n rD, rs1, rs2   SDOTSP V-R          4  MASK_V_OP   \n",
      "80      pv.sdotsp.c rD, rs1, rs2   SDOTSP V-V          2  MASK_V_OP   \n",
      "81   pv.sdotsp.sc.c rD, rs1, rs2   SDOTSP V-R          2  MASK_V_OP   \n",
      "\n",
      "           HEX             OP MASK       HEX.1       VV/VS MASK       HEX.2  \n",
      "0   0xFE00707F      MATCH_V_OP_ADD  0x00000000  MATCH_V_OP_N_VV  0x00002057  \n",
      "1   0xFE00707F      MATCH_V_OP_ADD  0x00000000  MATCH_V_OP_N_VR  0x00003057  \n",
      "2   0xFE00707F      MATCH_V_OP_ADD  0x00000000  MATCH_V_OP_C_VV  0x02002057  \n",
      "3   0xFE00707F      MATCH_V_OP_ADD  0x00000000  MATCH_V_OP_C_VR  0x02003057  \n",
      "4   0xFE00707F      MATCH_V_OP_SUB  0x08000000  MATCH_V_OP_N_VV  0x00002057  \n",
      "..         ...                 ...         ...              ...         ...  \n",
      "77  0xFE00707F   MATCH_V_OP_SDOTSP  0xA8000000  MATCH_V_OP_C_VR  0x02003057  \n",
      "78  0xFE00707F  MATCH_V_OP_SDOTUSP  0xB8000000  MATCH_V_OP_N_VV  0x00002057  \n",
      "79  0xFE00707F  MATCH_V_OP_SDOTUSP  0xB8000000  MATCH_V_OP_N_VR  0x00003057  \n",
      "80  0xFE00707F  MATCH_V_OP_SDOTUSP  0xB8000000  MATCH_V_OP_C_VV  0x02002057  \n",
      "81  0xFE00707F  MATCH_V_OP_SDOTUSP  0xB8000000  MATCH_V_OP_C_VR  0x02003057  \n",
      "\n",
      "[82 rows x 17 columns]\n"
     ]
    }
   ],
   "source": [
    "import pandas as pd\n",
    "#ISA = pd.read_excel('XpulpNN_SPECS.xlsx')\n",
    "ISA = pd.read_csv('XpulpNN_SPECS_msdos.csv')\n",
    "\n",
    "print(ISA)"
   ]
  },
  {
   "cell_type": "code",
   "execution_count": 23,
   "metadata": {
    "Collapsed": "false"
   },
   "outputs": [
    {
     "name": "stdout",
     "output_type": "stream",
     "text": [
      "0x00942757\n",
      "0x00943757\n",
      "0x02942757\n",
      "0x02943757\n",
      "0x08942757\n",
      "0x08943757\n",
      "0x0A942757\n",
      "0x0A943757\n",
      "0x10942757\n",
      "0x10943757\n",
      "0x12942757\n",
      "0x12943757\n",
      "0x18942757\n",
      "0x18943757\n",
      "0x1A942757\n",
      "0x1A943757\n",
      "0x20942757\n",
      "0x20943757\n",
      "0x22942757\n",
      "0x22943757\n",
      "0x28942757\n",
      "0x28943757\n",
      "0x2A942757\n",
      "0x2A943757\n",
      "0x30942757\n",
      "0x30943757\n",
      "0x32942757\n",
      "0x32943757\n",
      "0x38942757\n",
      "0x38943757\n",
      "0x3A942757\n",
      "0x3A943757\n",
      "0x40942757\n",
      "0x40943757\n",
      "0x42942757\n",
      "0x42943757\n",
      "0x48942757\n",
      "0x48943757\n",
      "0x4A942757\n",
      "0x4A943757\n",
      "0x50942757\n",
      "0x50943757\n",
      "0x52942757\n",
      "0x52943757\n",
      "0x58942757\n",
      "0x58943757\n",
      "0x5A942757\n",
      "0x5A943757\n",
      "0x60942757\n",
      "0x60943757\n",
      "0x62942757\n",
      "0x62943757\n",
      "0x68942757\n",
      "0x68943757\n",
      "0x6A942757\n",
      "0x6A943757\n",
      "0x70942757\n",
      "0x72942757\n",
      "0x80942757\n",
      "0x80943757\n",
      "0x82942757\n",
      "0x82943757\n",
      "0x88942757\n",
      "0x88943757\n",
      "0x8A942757\n",
      "0x8A943757\n",
      "0x98942757\n",
      "0x98943757\n",
      "0x9A942757\n",
      "0x9A943757\n",
      "0xA0942757\n",
      "0xA0943757\n",
      "0xA2942757\n",
      "0xA2943757\n",
      "0xA8942757\n",
      "0xA8943757\n",
      "0xAA942757\n",
      "0xAA943757\n",
      "0xB8942757\n",
      "0xB8943757\n",
      "0xBA942757\n",
      "0xBA943757\n",
      "   funct 5  F  Unnamed: 2   rs2   rs1  funct 3    rD    opcode  \\\n",
      "0   0 0000  0           0  src2  src1       10  dest  101 0111   \n",
      "1   0 0000  0           0  src2  src1       11  dest  101 0111   \n",
      "2   0 0000  0           1  src2  src1       10  dest  101 0111   \n",
      "3   0 0000  0           1  src2  src1       11  dest  101 0111   \n",
      "4   0 0001  0           0  src2  src1       10  dest  101 0111   \n",
      "..     ... ..         ...   ...   ...      ...   ...       ...   \n",
      "77  1 0101  0           1  src2  src1       11  dest  101 0111   \n",
      "78  1 0111  0           0  src2  src1       10  dest  101 0111   \n",
      "79  1 0111  0           0  src2  src1       11  dest  101 0111   \n",
      "80  1 0111  0           1  src2  src1       10  dest  101 0111   \n",
      "81  1 0111  0           1  src2  src1       11  dest  101 0111   \n",
      "\n",
      "                        mnemonic           OP  BIT WIDTH  BASE MASK  \\\n",
      "0          pv.add.n rD, rs1, rs2      ADD V-V          4  MASK_V_OP   \n",
      "1       pv.add.sc.n rD, rs1, rs2      ADD V-S          4  MASK_V_OP   \n",
      "2          pv.add.c rD, rs1, rs2      ADD V-V          2  MASK_V_OP   \n",
      "3       pv.add.sc.c rD, rs1, rs2      ADD V-S          2  MASK_V_OP   \n",
      "4          pv.sub.n rD, rs1, rs2      SUB V-V          4  MASK_V_OP   \n",
      "..                           ...          ...        ...        ...   \n",
      "77  pv.sdotusp.sc.c rD, rs1, rs2  SDOTUSP V-R          2  MASK_V_OP   \n",
      "78      pv.sdotsp.n rD, rs1, rs2   SDOTSP V-V          4  MASK_V_OP   \n",
      "79   pv.sdotsp.sc.n rD, rs1, rs2   SDOTSP V-R          4  MASK_V_OP   \n",
      "80      pv.sdotsp.c rD, rs1, rs2   SDOTSP V-V          2  MASK_V_OP   \n",
      "81   pv.sdotsp.sc.c rD, rs1, rs2   SDOTSP V-R          2  MASK_V_OP   \n",
      "\n",
      "           HEX             OP MASK       HEX.1       VV/VS MASK       HEX.2  \\\n",
      "0   0xFE00707F      MATCH_V_OP_ADD  0x00000000  MATCH_V_OP_N_VV  0x00002057   \n",
      "1   0xFE00707F      MATCH_V_OP_ADD  0x00000000  MATCH_V_OP_N_VR  0x00003057   \n",
      "2   0xFE00707F      MATCH_V_OP_ADD  0x00000000  MATCH_V_OP_C_VV  0x02002057   \n",
      "3   0xFE00707F      MATCH_V_OP_ADD  0x00000000  MATCH_V_OP_C_VR  0x02003057   \n",
      "4   0xFE00707F      MATCH_V_OP_SUB  0x08000000  MATCH_V_OP_N_VV  0x00002057   \n",
      "..         ...                 ...         ...              ...         ...   \n",
      "77  0xFE00707F   MATCH_V_OP_SDOTSP  0xA8000000  MATCH_V_OP_C_VR  0x02003057   \n",
      "78  0xFE00707F  MATCH_V_OP_SDOTUSP  0xB8000000  MATCH_V_OP_N_VV  0x00002057   \n",
      "79  0xFE00707F  MATCH_V_OP_SDOTUSP  0xB8000000  MATCH_V_OP_N_VR  0x00003057   \n",
      "80  0xFE00707F  MATCH_V_OP_SDOTUSP  0xB8000000  MATCH_V_OP_C_VV  0x02002057   \n",
      "81  0xFE00707F  MATCH_V_OP_SDOTUSP  0xB8000000  MATCH_V_OP_C_VR  0x02003057   \n",
      "\n",
      "     HEX_FINAL  \n",
      "0   0x00942757  \n",
      "1   0x00943757  \n",
      "2   0x02942757  \n",
      "3   0x02943757  \n",
      "4   0x08942757  \n",
      "..         ...  \n",
      "77  0xAA943757  \n",
      "78  0xB8942757  \n",
      "79  0xB8943757  \n",
      "80  0xBA942757  \n",
      "81  0xBA943757  \n",
      "\n",
      "[82 rows x 18 columns]\n"
     ]
    }
   ],
   "source": [
    "final_hex = []\n",
    "for index, row in ISA.iterrows():\n",
    "    hex = ''\n",
    "    for i in range(len(row['HEX.2'])):\n",
    "         # Now let rd = x14, rs1 = x8 and rs2 = x9:\n",
    "        if i == 4:\n",
    "            hex = hex + '9'\n",
    "        elif i == 5:\n",
    "            hex = hex + '4'\n",
    "        elif i == 7:\n",
    "            hex = hex + '7'\n",
    "        else:  \n",
    "            if row['HEX.1'][i] == '0':\n",
    "                hex = hex + row['HEX.2'][i]\n",
    "            elif i == 3:\n",
    "                if row['HEX.2'][i] == '0':\n",
    "                    hex = hex + row['HEX.1'][i]\n",
    "                else:\n",
    "                    hex = hex + 'A' # Because (assuming rs2 = 00) that means that, since row['HEX.2'][i] != '0', there is 2 contribution from it from instr[25] bit. If row['HEX.1'][i] != '0', there is 8 contribution from it from instr[27] bit (F bit, which is instr[26]\n",
    "                                             # bit, is always 0). 8+2=A\n",
    "            else:\n",
    "                hex = hex + row['HEX.1'][i]\n",
    "    print(hex)\n",
    "    final_hex.append(hex)\n",
    "ISA['HEX_FINAL'] = final_hex\n",
    "print(ISA)"
   ]
  },
  {
   "cell_type": "code",
   "execution_count": 24,
   "metadata": {
    "Collapsed": "false"
   },
   "outputs": [],
   "source": [
    "ISA.to_csv ('XpulpNN_TEST.csv', index = False, header=True)"
   ]
  },
  {
   "cell_type": "code",
   "execution_count": 25,
   "metadata": {
    "Collapsed": "false"
   },
   "outputs": [],
   "source": [
    "with open('0xHEX.txt', 'w') as f:\n",
    "    for item in final_hex:\n",
    "        f.write(\"%s\\n\" % item)"
   ]
  },
  {
   "cell_type": "code",
   "execution_count": 26,
   "metadata": {
    "Collapsed": "false"
   },
   "outputs": [],
   "source": [
    "with open('HEX.txt', 'w') as f:\n",
    "    for item in final_hex:\n",
    "        f.write(\"%s\\n\" % item[2:10])"
   ]
  },
  {
   "cell_type": "code",
   "execution_count": 30,
   "metadata": {
    "Collapsed": "false"
   },
   "outputs": [],
   "source": [
    "with open('bigEndianHEX.txt', 'w') as f:\n",
    "    for item in final_hex:\n",
    "        f.write(\"%s%s%s%s\\n\" % (item[8:10], item[6:8], item[4:6], item[2:4]))"
   ]
  },
  {
   "cell_type": "code",
   "execution_count": 34,
   "metadata": {
    "Collapsed": "false"
   },
   "outputs": [],
   "source": [
    "with open('big_Endian_HEX.txt', 'w') as f:\n",
    "    for item in final_hex:\n",
    "        f.write(\"%s %s %s %s\\n\" % (item[8:10], item[6:8], item[4:6], item[2:4]))"
   ]
  },
  {
   "cell_type": "code",
   "execution_count": 33,
   "metadata": {
    "Collapsed": "false"
   },
   "outputs": [],
   "source": [
    "with open('fourBigEndianHEX.txt', 'w') as f:\n",
    "    i = 0\n",
    "    for item in final_hex:\n",
    "        f.write(\"%s %s %s %s \" % (item[8:10], item[6:8], item[4:6], item[2:4]))\n",
    "        i = i + 1\n",
    "        if i == 4:\n",
    "            i = 0\n",
    "            f.write(\"\\n\")"
   ]
  },
  {
   "cell_type": "code",
   "execution_count": 32,
   "metadata": {
    "Collapsed": "false"
   },
   "outputs": [],
   "source": [
    "with open('allBigEndianHEX.txt', 'w') as f:\n",
    "    for item in final_hex:\n",
    "        f.write(\"%s %s %s %s \" % (item[8:10], item[6:8], item[4:6], item[2:4]))"
   ]
  },
  {
   "cell_type": "code",
   "execution_count": 40,
   "metadata": {
    "Collapsed": "false"
   },
   "outputs": [],
   "source": [
    "# Preparing a test program for each single instruction & the make file:\n",
    "prog_first_part = '@00000000\\n6F 00 40 27\\n@00000180\\n17 03 00 00\\n67 00 83 00 \\n13 04 a0 00 \\n93 04 c0 00 \\nb7 27 d3 75 \\n93 87 67 1f \\n63 c8 07 00 \\n13 07 30 01 \\n63 44 94 00 \\n93 06 f0 00\\n'\n",
    "prog_last_part = '13 08 20 17\\n23 20 78 00\\n13 05 a0 00\\n37 09 00 20\\nb7 d9 5b 07\\n93 89 59 d1\\n23 20 39 01'\n",
    "make_add = ''\n",
    "for index, row in ISA.iterrows():\n",
    "    prefix = row['mnemonic'].split(' ')[0]\n",
    "    file_name = prefix + '.hex'\n",
    "    phony = prefix + '-vsim-run-gui'\n",
    "    with open(file_name, 'w') as f:\n",
    "        f.write(\"%s%s %s %s %s\\n%s\" % (prog_first_part, row['HEX_FINAL'][8:10], row['HEX_FINAL'][6:8], row['HEX_FINAL'][4:6], row['HEX_FINAL'][2:4], prog_last_part))\n",
    "    make_add = make_add + \"\\n.PHONY: %s\\n%s: vsim-all xpulp_tests/%s\\n%s: ALL_VSIM_FLAGS += \\\"+firmware=xpulp_tests/%s\\\"\\n%s: vsim-run-gui\\n\" % (phony, phony, file_name, phony, file_name, phony)\n",
    "with open('make_add.txt', 'w') as f2:\n",
    "    f2.write(make_add)"
   ]
  },
  {
   "cell_type": "code",
   "execution_count": 42,
   "metadata": {
    "Collapsed": "false"
   },
   "outputs": [
    {
     "name": "stdout",
     "output_type": "stream",
     "text": [
      "          Mnemonic  SPR                       INSTR     func 7        IMM  \\\n",
      "0    pv.mlsdotup.h    0   pv.smlsdotup.h rD,rs1,Imm  1 1100 00  Immediate   \n",
      "1   pv.mlsdotusp.h    0  pv.smlsdotusp.h rD,rs1,Imm  1 1101 00  Immediate   \n",
      "2   pv.mlsdotsup.h    0  pv.smlsdotsup.h rD,rs1,Imm  1 1011 00  Immediate   \n",
      "3    pv.mlsdotsp.h    0   pv.smlsdotsp.h rD,rs1,Imm  1 1111 00  Immediate   \n",
      "4    pv.mlsdotup.b    0   pv.smlsdotup.b rD,rs1,Imm  1 1100 00  Immediate   \n",
      "5   pv.mlsdotusp.b    0  pv.smlsdotsup.b rD,rs1,Imm  1 1101 00  Immediate   \n",
      "6   pv.mlsdotsup.b    0  pv.smlsdotusp.b rD,rs1,Imm  1 1011 00  Immediate   \n",
      "7    pv.mlsdotsp.b    0   pv.smlsdotsp.b rD,rs1,Imm  1 1111 00  Immediate   \n",
      "8    pv.mlsdotup.n    0   pv.smlsdotup.n rD,rs1,Imm  1 1100 00  Immediate   \n",
      "9   pv.mlsdotusp.n    0  pv.smlsdotusp.n rD,rs1,Imm  1 1101 00  Immediate   \n",
      "10  pv.mlsdotsup.n    0  pv.smlsdotsup.n rD,rs1,Imm  1 1011 00  Immediate   \n",
      "11   pv.mlsdotsp.n    0   pv.smlsdotsp.n rD,rs1,Imm  1 1111 00  Immediate   \n",
      "12   pv.mlsdotup.c    0   pv.smlsdotup.c rD,rs1,Imm  1 1100 00  Immediate   \n",
      "13  pv.mlsdotusp.c    0  pv.smlsdotusp.c rD,rs1,Imm  1 1101 00  Immediate   \n",
      "14  pv.mlsdotsup.c    0  pv.smlsdotsup.c rD,rs1,Imm  1 1011 00  Immediate   \n",
      "15   pv.mlsdotsp.c    0   pv.smlsdotsp.c rD,rs1,Imm  1 1111 00  Immediate   \n",
      "\n",
      "   reg1  func 3  regd    OPCODE   func 7.1      IMM.1 reg1.1  func 3.1 regd.1  \\\n",
      "0   rs1       0  dest  111 0111  1 1100 00  Immediate    rs1         0   dest   \n",
      "1   rs1       0  dest  111 0111  1 1101 00  Immediate    rs1         0   dest   \n",
      "2   rs1       0  dest  111 0111  1 1011 00  Immediate    rs1         0   dest   \n",
      "3   rs1       0  dest  111 0111  1 1111 00  Immediate    rs1         0   dest   \n",
      "4   rs1       1  dest  111 0111  1 1100 00  Immediate    rs1         1   dest   \n",
      "5   rs1       1  dest  111 0111  1 1101 00  Immediate    rs1         1   dest   \n",
      "6   rs1       1  dest  111 0111  1 1011 00  Immediate    rs1         1   dest   \n",
      "7   rs1       1  dest  111 0111  1 1111 00  Immediate    rs1         1   dest   \n",
      "8   rs1      10  dest  111 0111  1 1100 00  Immediate    rs1        10   dest   \n",
      "9   rs1      10  dest  111 0111  1 1101 00  Immediate    rs1        10   dest   \n",
      "10  rs1      10  dest  111 0111  1 1011 00  Immediate    rs1        10   dest   \n",
      "11  rs1      10  dest  111 0111  1 1111 00  Immediate    rs1        10   dest   \n",
      "12  rs1      11  dest  111 0111  1 1100 00  Immediate    rs1        11   dest   \n",
      "13  rs1      11  dest  111 0111  1 1101 00  Immediate    rs1        11   dest   \n",
      "14  rs1      11  dest  111 0111  1 1011 00  Immediate    rs1        11   dest   \n",
      "15  rs1      11  dest  111 0111  1 1111 00  Immediate    rs1        11   dest   \n",
      "\n",
      "    OPCODE.1         HEX   HEX_FINAL  \n",
      "0   111 0111  0xE0000077  0xE0940777  \n",
      "1   111 0111  0xE8000077  0xE8940777  \n",
      "2   111 0111  0xD8000077  0xD8940777  \n",
      "3   111 0111  0xF8000077  0xF8940777  \n",
      "4   111 0111  0xE0001077  0xE0941777  \n",
      "5   111 0111  0xE8001077  0xE8941777  \n",
      "6   111 0111  0xD8001077  0xD8941777  \n",
      "7   111 0111  0xF8001077  0xF8941777  \n",
      "8   111 0111  0xE0002077  0xE0942777  \n",
      "9   111 0111  0xE8002077  0xE8942777  \n",
      "10  111 0111  0xD8002077  0xD8942777  \n",
      "11  111 0111  0xF8002077  0xF8942777  \n",
      "12  111 0111  0xE0003077  0xE0943777  \n",
      "13  111 0111  0xE8003077  0xE8943777  \n",
      "14  111 0111  0xD8003077  0xD8943777  \n",
      "15  111 0111  0xF8003077  0xF8003077  \n"
     ]
    }
   ],
   "source": [
    "# Newest Version ISA & TPs:\n",
    "ISA_new = pd.read_csv('XpulpNN_sheet2.csv')\n",
    "print(ISA_new)\n",
    "make_add2 = ''\n",
    "for index, row in ISA_new.iterrows():\n",
    "    prefix2 = row['Mnemonic']\n",
    "    file_name2 = prefix2 + '.hex'\n",
    "    phony2 = prefix2 + '-vsim-run-gui'\n",
    "    with open(file_name2, 'w') as f3:\n",
    "        f3.write(\"%s%s %s %s %s\\n%s\" % (prog_first_part, row['HEX_FINAL'][8:10], row['HEX_FINAL'][6:8], row['HEX_FINAL'][4:6], row['HEX_FINAL'][2:4], prog_last_part))\n",
    "    make_add2 = make_add2 + \"\\n.PHONY: %s\\n%s: vsim-all xpulp_tests/%s\\n%s: ALL_VSIM_FLAGS += \\\"+firmware=xpulp_tests/%s\\\"\\n%s: vsim-run-gui\\n\" % (phony2, phony2, file_name2, phony2, file_name2, phony2)\n",
    "with open('make_add2.txt', 'w') as f4:\n",
    "    f4.write(make_add2)"
   ]
  },
  {
   "cell_type": "code",
   "execution_count": null,
   "metadata": {
    "Collapsed": "false"
   },
   "outputs": [],
   "source": []
  }
 ],
 "metadata": {
  "kernelspec": {
   "display_name": "Python 3",
   "language": "python",
   "name": "python3"
  },
  "language_info": {
   "codemirror_mode": {
    "name": "ipython",
    "version": 3
   },
   "file_extension": ".py",
   "mimetype": "text/x-python",
   "name": "python",
   "nbconvert_exporter": "python",
   "pygments_lexer": "ipython3",
   "version": "3.7.7"
  }
 },
 "nbformat": 4,
 "nbformat_minor": 4
}
